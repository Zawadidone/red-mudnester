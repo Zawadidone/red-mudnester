{
 "cells": [
  {
   "cell_type": "markdown",
   "id": "7e9199f3",
   "metadata": {},
   "source": [
    "# Timesketch Notebook\n",
    "This is a base notebook for connecting to a dev instance of Timesketch."
   ]
  },
  {
   "cell_type": "markdown",
   "id": "bc234dda",
   "metadata": {},
   "source": [
    "## Import\n",
    "To start a notebook we import few base libraries.\n",
    "Execute the cell below by pressing the play button or using \"shift + enter\""
   ]
  },
  {
   "cell_type": "code",
   "execution_count": 99,
   "id": "e0a4199d",
   "metadata": {},
   "outputs": [],
   "source": [
    "from timesketch_api_client import search\n",
    "from picatrix.lib import state as state_lib\n",
    "\n",
    "\n",
    "import altair as alt\n",
    "import numpy as np\n",
    "import pandas as pd\n",
    "\n",
    "state = state_lib.state()"
   ]
  },
  {
   "cell_type": "markdown",
   "id": "9dcd3627",
   "metadata": {},
   "source": [
    "## Select a Sketch.\n",
    "Now it is time to select a sketch to use, first execute the cell and then change the ID of the sketch to the one you want, and press the button."
   ]
  },
  {
   "cell_type": "code",
   "execution_count": 100,
   "id": "5558071e",
   "metadata": {},
   "outputs": [
    {
     "data": {
      "text/markdown": [
       "## Connect to a sketch"
      ],
      "text/plain": [
       "<IPython.core.display.Markdown object>"
      ]
     },
     "metadata": {},
     "output_type": "display_data"
    },
    {
     "data": {
      "text/markdown": [
       "Select a sketch to connect to."
      ],
      "text/plain": [
       "<IPython.core.display.Markdown object>"
      ]
     },
     "metadata": {},
     "output_type": "display_data"
    },
    {
     "data": {
      "application/vnd.jupyter.widget-view+json": {
       "model_id": "f6c257196d554e54b1e764467bd0862d",
       "version_major": 2,
       "version_minor": 0
      },
      "text/plain": [
       "IntText(value=1, description='Sketch ID:')"
      ]
     },
     "metadata": {},
     "output_type": "display_data"
    },
    {
     "data": {
      "application/vnd.jupyter.widget-view+json": {
       "model_id": "a735b371f0fe42c3ba129d6ae558d832",
       "version_major": 2,
       "version_minor": 0
      },
      "text/plain": [
       "Button(description='Connect to sketch', style=ButtonStyle())"
      ]
     },
     "metadata": {},
     "output_type": "display_data"
    },
    {
     "data": {
      "application/vnd.jupyter.widget-view+json": {
       "model_id": "6757ce7a9b7e4460a53227f7b8485034",
       "version_major": 2,
       "version_minor": 0
      },
      "text/plain": [
       "Output()"
      ]
     },
     "metadata": {},
     "output_type": "display_data"
    }
   ],
   "source": [
    "generate_connect_button()"
   ]
  },
  {
   "cell_type": "markdown",
   "id": "85e25d66",
   "metadata": {},
   "source": [
    "*If you want to query data you can use the snippets menu, or create a search obj, and to display a table use `display_table(search_obj.table)` or `display_table(data_frame)`*\n",
    "\n",
    "To see a list of available helper functions run `%picatrixhelpers` in a cell, or to see a list of functions/magics use `%picatrixmagics`."
   ]
  },
  {
   "cell_type": "markdown",
   "id": "9832aaf1",
   "metadata": {},
   "source": [
    "## Hunting queries"
   ]
  },
  {
   "cell_type": "markdown",
   "id": "3d2226c4",
   "metadata": {},
   "source": [
    "This chapter contains the hunting queries to find traces related to the used techniques by the threat actor. The queries use forensics artefacts where traces were found during the investigation of Hunt & Hackett, it is possible that other forensics artefacts can be used to find the same traces in different cases or environments depending on the research material. "
   ]
  },
  {
   "cell_type": "markdown",
   "id": "6b3b42ca",
   "metadata": {},
   "source": [
    "### Remote interactive login to Domain Controller  - [T1078.002](https://attack.mitre.org/techniques/T1078/002/), [T1021.001](https://attack.mitre.org/techniques/T1021/001/)\n",
    "\n",
    "This query can be used to search for deviant logins to a Domain Controller based on the used user account or source IP adress. The naming scheme of the Domain Controller(s) can be adjusted in the query."
   ]
  },
  {
   "cell_type": "code",
   "execution_count": 101,
   "id": "af6a16c4",
   "metadata": {},
   "outputs": [
    {
     "data": {
      "application/vnd.jupyter.widget-view+json": {
       "model_id": "6068c83acf684fb08c68f8536906711a",
       "version_major": 2,
       "version_minor": 0
      },
      "text/plain": [
       "Grid(columns_fit='auto', compress_data=True, export_mode='disabled', height='350px', menu={'buttons': [{'name'…"
      ]
     },
     "metadata": {},
     "output_type": "display_data"
    }
   ],
   "source": [
    "search_obj = search.Search(sketch)\n",
    "search_obj.query_string = 'data_type:\"windows:evtx:record\" AND event_identifier:4624 AND logon_type:RemoteInteractive AND computer_name:*DC*'\n",
    "search_obj.return_fields = ('datetime, computer_name, username, source_address')\n",
    "login_data = search_obj.table\n",
    "display_table(login_data)"
   ]
  },
  {
   "cell_type": "markdown",
   "id": "b7dc4af1",
   "metadata": {},
   "source": [
    "### Network login to Domain Controller by the Administrator account - [T1078.001](https://attack.mitre.org/techniques/T1078/001/) \n",
    "This query can be used to search for deviant logins by the Administrator account that based on the environment should not be used accross a network. "
   ]
  },
  {
   "cell_type": "code",
   "execution_count": 102,
   "id": "cd22a78e",
   "metadata": {},
   "outputs": [
    {
     "data": {
      "application/vnd.jupyter.widget-view+json": {
       "model_id": "9dea85584bc64b769f787f4157d04e6b",
       "version_major": 2,
       "version_minor": 0
      },
      "text/plain": [
       "Grid(columns_fit='auto', compress_data=True, export_mode='disabled', height='350px', menu={'buttons': [{'name'…"
      ]
     },
     "metadata": {},
     "output_type": "display_data"
    }
   ],
   "source": [
    "search_obj = search.Search(sketch)\n",
    "search_obj.query_string = 'data_type:\"windows:evtx:record\" AND event_identifier:4624 AND logon_type:network AND username:administrator'\n",
    "search_obj.return_fields = ('datetime, computer_name, username, source_address')\n",
    "login_data = search_obj.table\n",
    "display_table(login_data)"
   ]
  },
  {
   "cell_type": "markdown",
   "id": "8fc3d5cc",
   "metadata": {},
   "source": [
    "### Scheduled Task related to MEGAsync -  [T1053.005](https://attack.mitre.org/techniques/T1053/005/), [T1567.002](https://attack.mitre.org/techniques/T1567/002/)\n",
    "This query can be used to find the MEGAsync Update task."
   ]
  },
  {
   "cell_type": "code",
   "execution_count": 103,
   "id": "e36f9c42",
   "metadata": {},
   "outputs": [
    {
     "data": {
      "application/vnd.jupyter.widget-view+json": {
       "model_id": "ba982306356a4582aa9debbde88892cf",
       "version_major": 2,
       "version_minor": 0
      },
      "text/plain": [
       "Grid(columns_fit='auto', compress_data=True, export_mode='disabled', height='350px', menu={'buttons': [{'name'…"
      ]
     },
     "metadata": {},
     "output_type": "display_data"
    }
   ],
   "source": [
    "search_obj = search.Search(sketch)\n",
    "search_obj.query_string = 'data_type:\"task_scheduler:task_cache:entry\" AND task_name:\"MEGAsync Update Task\"'\n",
    "search_obj.return_fields = ('datetime, task_name')\n",
    "scheduled_tasks = search_obj.table\n",
    "display_table(scheduled_tasks)"
   ]
  },
  {
   "cell_type": "markdown",
   "id": "6ee6138e",
   "metadata": {},
   "source": [
    "### Scheduled task related to the ransomware of the threat actor - [T1486](https://attack.mitre.org/techniques/T1486/)\n",
    "This query can be used to find traces of Scheduled tasks with the word crypt in the name."
   ]
  },
  {
   "cell_type": "code",
   "execution_count": 104,
   "id": "23bc348f",
   "metadata": {},
   "outputs": [
    {
     "data": {
      "application/vnd.jupyter.widget-view+json": {
       "model_id": "fc12c0b0a1b74675a5ee4635598685c5",
       "version_major": 2,
       "version_minor": 0
      },
      "text/plain": [
       "Grid(columns_fit='auto', compress_data=True, export_mode='disabled', height='350px', menu={'buttons': [{'name'…"
      ]
     },
     "metadata": {},
     "output_type": "display_data"
    }
   ],
   "source": [
    "search_obj = search.Search(sketch)\n",
    "search_obj.query_string = 'data_type:\"windows:evtx:record\" AND (message_identifier:201 OR message_identifier:203) AND message:crypt*'\n",
    "search_obj.return_fields = ('datetime, message')\n",
    "scheduled_tasks = search_obj.table\n",
    "display_table(scheduled_tasks)"
   ]
  },
  {
   "cell_type": "markdown",
   "id": "5f988c92",
   "metadata": {},
   "source": [
    "### McAfee access protection rule alerts -  [T1562.001](https://attack.mitre.org/techniques/T1562/001/) \n",
    "This query can be used to find McAfee access protection rule alerts in the Windows Event Log. These alerts include blocked access protection rules and prevention of common programs running files from the Temp folder."
   ]
  },
  {
   "cell_type": "code",
   "execution_count": 105,
   "id": "a63ad5ff",
   "metadata": {},
   "outputs": [
    {
     "data": {
      "application/vnd.jupyter.widget-view+json": {
       "model_id": "d8caaf8de06c4533a0bb3e9b1cb88fd0",
       "version_major": 2,
       "version_minor": 0
      },
      "text/plain": [
       "Grid(columns_fit='auto', compress_data=True, export_mode='disabled', height='350px', menu={'buttons': [{'name'…"
      ]
     },
     "metadata": {},
     "output_type": "display_data"
    }
   ],
   "source": [
    "search_obj = search.Search(sketch)\n",
    "search_obj.query_string = 'data_type:\"windows:evtx:record\" AND source_name:McLogEvent AND event_identifier:257'\n",
    "search_obj.return_fields = ('datetime, message')\n",
    "alerts = search_obj.table\n",
    "display_table(alerts)"
   ]
  },
  {
   "cell_type": "markdown",
   "id": "89be8118",
   "metadata": {},
   "source": [
    "### Stopped services before execution of the ransomware of the threat actor - [T1489](https://attack.mitre.org/techniques/T1489)\n",
    "This query can be used to detect services that the threat actor stopped before executing the ransomware."
   ]
  },
  {
   "cell_type": "code",
   "execution_count": 106,
   "id": "3aa3ba90",
   "metadata": {},
   "outputs": [
    {
     "data": {
      "application/vnd.jupyter.widget-view+json": {
       "model_id": "8ec50b24a33243fca64d5d8ee2d886d3",
       "version_major": 2,
       "version_minor": 0
      },
      "text/plain": [
       "Grid(columns_fit='auto', compress_data=True, export_mode='disabled', height='350px', menu={'buttons': [{'name'…"
      ]
     },
     "metadata": {},
     "output_type": "display_data"
    }
   ],
   "source": [
    "search_obj = search.Search(sketch)\n",
    "search_obj.query_string = 'event_identifier:7036 AND (message:\"Volume Shadow Copy\" OR message:\"Application Experience\" OR message:\"File Server Storage Reports Manager\" OR message:\"Microsoft Software Shadow Copy Provider\")'\n",
    "search_obj.return_fields = ('datetime, computer_name, message')\n",
    "stopped_services = search_obj.table\n",
    "display_table(stopped_services)"
   ]
  },
  {
   "cell_type": "markdown",
   "id": "8ba5dda9",
   "metadata": {},
   "source": [
    "### MEGAsync process execution - [T1588.002](https://attack.mitre.org/techniques/T1588/002/)\n",
    "This query can be used to detect two specific hashes related to MEGAsync.\n",
    "\n",
    "* MEGAsync.exe - d92522dcaec6a3d22a1b05d8f5c9ebae08ec74da (SHA1)\n",
    "* MEGAupdater.exe - 4e7578c638d480da1c3b3b3b54f46b153717981d (SHA1)"
   ]
  },
  {
   "cell_type": "code",
   "execution_count": 108,
   "id": "fbe04f63",
   "metadata": {},
   "outputs": [
    {
     "data": {
      "application/vnd.jupyter.widget-view+json": {
       "model_id": "56e6f24f2ae348a8872350da0abe6cd0",
       "version_major": 2,
       "version_minor": 0
      },
      "text/plain": [
       "Grid(columns_fit='auto', compress_data=True, export_mode='disabled', height='350px', menu={'buttons': [{'name'…"
      ]
     },
     "metadata": {},
     "output_type": "display_data"
    }
   ],
   "source": [
    "search_obj = search.Search(sketch)\n",
    "search_obj.query_string = 'data_type:\"windows:registry:amcache\" AND (sha1:d92522dcaec6a3d22a1b05d8f5c9ebae08ec74da OR sha1:4e7578c638d480da1c3b3b3b54f46b153717981d)'\n",
    "search_obj.return_fields = ('datetime, message, product_name, file_description, company_name, sha1')\n",
    "executions = search_obj.table\n",
    "display_table(executions)"
   ]
  }
 ],
 "metadata": {
  "kernelspec": {
   "display_name": "Python 3 (ipykernel)",
   "language": "python",
   "name": "python3"
  },
  "language_info": {
   "codemirror_mode": {
    "name": "ipython",
    "version": 3
   },
   "file_extension": ".py",
   "mimetype": "text/x-python",
   "name": "python",
   "nbconvert_exporter": "python",
   "pygments_lexer": "ipython3",
   "version": "3.8.12"
  }
 },
 "nbformat": 4,
 "nbformat_minor": 5
}
